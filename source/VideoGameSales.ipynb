{
 "cells": [
  {
   "cell_type": "markdown",
   "id": "454ddf40",
   "metadata": {},
   "source": [
    "# **VIDEO GAMES SALES DATA ANALYSIS**"
   ]
  },
  {
   "cell_type": "markdown",
   "id": "5e417fa1",
   "metadata": {},
   "source": [
    "## **Table of content**\n"
   ]
  },
  {
   "cell_type": "markdown",
   "id": "2a938685",
   "metadata": {},
   "source": [
    "* [I. Import librabries](#c1)\n",
    "* [II. Read dataset](#c2)\n",
    "* [III. Dataset overview](#c3)\n",
    "* [IV. Handle missing/duplicated data](#c4)\n",
    "* [V. Data exploration](#c5)"
   ]
  },
  {
   "cell_type": "markdown",
   "id": "4ad85f6a",
   "metadata": {},
   "source": [
    "## **I. Import librabries** <a class=\"anchor\" id=\"c1\"></a>"
   ]
  },
  {
   "cell_type": "code",
   "execution_count": 1,
   "id": "2d3e2d58",
   "metadata": {},
   "outputs": [],
   "source": [
    "import warnings\n",
    "warnings.filterwarnings('ignore')\n",
    "\n",
    "import numpy as np\n",
    "import pandas as pd\n",
    "import seaborn as sns\n",
    "import matplotlib.pyplot as plt"
   ]
  },
  {
   "cell_type": "markdown",
   "id": "e06c3584",
   "metadata": {},
   "source": [
    "## **II. Read dataset** <a class=\"anchor\" id=\"c2\"></a>"
   ]
  },
  {
   "cell_type": "code",
   "execution_count": 2,
   "id": "cef8e3ed",
   "metadata": {},
   "outputs": [
    {
     "data": {
      "text/html": [
       "<div>\n",
       "<style scoped>\n",
       "    .dataframe tbody tr th:only-of-type {\n",
       "        vertical-align: middle;\n",
       "    }\n",
       "\n",
       "    .dataframe tbody tr th {\n",
       "        vertical-align: top;\n",
       "    }\n",
       "\n",
       "    .dataframe thead th {\n",
       "        text-align: right;\n",
       "    }\n",
       "</style>\n",
       "<table border=\"1\" class=\"dataframe\">\n",
       "  <thead>\n",
       "    <tr style=\"text-align: right;\">\n",
       "      <th></th>\n",
       "      <th>Rank</th>\n",
       "      <th>Name</th>\n",
       "      <th>Platform</th>\n",
       "      <th>Year</th>\n",
       "      <th>Genre</th>\n",
       "      <th>Publisher</th>\n",
       "      <th>Region</th>\n",
       "      <th>Sales</th>\n",
       "    </tr>\n",
       "  </thead>\n",
       "  <tbody>\n",
       "    <tr>\n",
       "      <th>0</th>\n",
       "      <td>1</td>\n",
       "      <td>Wii Sports</td>\n",
       "      <td>Wii</td>\n",
       "      <td>2006</td>\n",
       "      <td>Sports</td>\n",
       "      <td>Nintendo</td>\n",
       "      <td>North America</td>\n",
       "      <td>41.49</td>\n",
       "    </tr>\n",
       "    <tr>\n",
       "      <th>1</th>\n",
       "      <td>1</td>\n",
       "      <td>Wii Sports</td>\n",
       "      <td>Wii</td>\n",
       "      <td>2006</td>\n",
       "      <td>Sports</td>\n",
       "      <td>Nintendo</td>\n",
       "      <td>Europe</td>\n",
       "      <td>29.02</td>\n",
       "    </tr>\n",
       "    <tr>\n",
       "      <th>2</th>\n",
       "      <td>1</td>\n",
       "      <td>Wii Sports</td>\n",
       "      <td>Wii</td>\n",
       "      <td>2006</td>\n",
       "      <td>Sports</td>\n",
       "      <td>Nintendo</td>\n",
       "      <td>Japan</td>\n",
       "      <td>3.77</td>\n",
       "    </tr>\n",
       "    <tr>\n",
       "      <th>3</th>\n",
       "      <td>1</td>\n",
       "      <td>Wii Sports</td>\n",
       "      <td>Wii</td>\n",
       "      <td>2006</td>\n",
       "      <td>Sports</td>\n",
       "      <td>Nintendo</td>\n",
       "      <td>Other</td>\n",
       "      <td>8.46</td>\n",
       "    </tr>\n",
       "    <tr>\n",
       "      <th>4</th>\n",
       "      <td>1</td>\n",
       "      <td>Wii Sports</td>\n",
       "      <td>Wii</td>\n",
       "      <td>2006</td>\n",
       "      <td>Sports</td>\n",
       "      <td>Nintendo</td>\n",
       "      <td>Global</td>\n",
       "      <td>82.74</td>\n",
       "    </tr>\n",
       "  </tbody>\n",
       "</table>\n",
       "</div>"
      ],
      "text/plain": [
       "   Rank        Name Platform  Year   Genre Publisher         Region  Sales\n",
       "0     1  Wii Sports      Wii  2006  Sports  Nintendo  North America  41.49\n",
       "1     1  Wii Sports      Wii  2006  Sports  Nintendo         Europe  29.02\n",
       "2     1  Wii Sports      Wii  2006  Sports  Nintendo          Japan   3.77\n",
       "3     1  Wii Sports      Wii  2006  Sports  Nintendo          Other   8.46\n",
       "4     1  Wii Sports      Wii  2006  Sports  Nintendo         Global  82.74"
      ]
     },
     "execution_count": 2,
     "metadata": {},
     "output_type": "execute_result"
    }
   ],
   "source": [
    "# Read dataset\n",
    "df = pd.read_excel(\"../data/vgsales.xlsx\", engine=\"openpyxl\")\n",
    "df.head()"
   ]
  },
  {
   "cell_type": "markdown",
   "id": "592f3938",
   "metadata": {},
   "source": [
    "## **III. Dataset overview** <a class=\"anchor\" id=\"c3\"></a>"
   ]
  },
  {
   "cell_type": "markdown",
   "id": "c56be7b3",
   "metadata": {},
   "source": [
    "| Index | Variable            | Description                                  |\n",
    "|-------|---------------------|----------------------------------------------|\n",
    "| 1     | Rank                | Ranking of overall sales     |\n",
    "| 2     | Name                | The games name     |\n",
    "| 3     | Platform            | Platform of the games release (i.e. PC,PS4, etc.)     |\n",
    "| 4     | Year                | Year of the game's release     |\n",
    "| 5     | Genre               | Genre of the game     |\n",
    "| 6     | Publisher           | Publisher of the game     |\n",
    "| 7     | Region              | Region where the video games are sold     |\n",
    "| 8     | Sales               | the number of sales in that region (in millions)     |"
   ]
  },
  {
   "cell_type": "code",
   "execution_count": 3,
   "id": "ab799393",
   "metadata": {},
   "outputs": [
    {
     "name": "stdout",
     "output_type": "stream",
     "text": [
      "<class 'pandas.core.frame.DataFrame'>\n",
      "RangeIndex: 81870 entries, 0 to 81869\n",
      "Data columns (total 8 columns):\n",
      " #   Column     Non-Null Count  Dtype  \n",
      "---  ------     --------------  -----  \n",
      " 0   Rank       81870 non-null  int64  \n",
      " 1   Name       81870 non-null  object \n",
      " 2   Platform   81870 non-null  object \n",
      " 3   Year       81870 non-null  int64  \n",
      " 4   Genre      81870 non-null  object \n",
      " 5   Publisher  81870 non-null  object \n",
      " 6   Region     81870 non-null  object \n",
      " 7   Sales      81870 non-null  float64\n",
      "dtypes: float64(1), int64(2), object(5)\n",
      "memory usage: 5.0+ MB\n"
     ]
    }
   ],
   "source": [
    "# Dataset information\n",
    "df.info()"
   ]
  },
  {
   "cell_type": "markdown",
   "id": "1a7e6134",
   "metadata": {},
   "source": [
    "### **Inferences**\n",
    " * **Entries**: This dataset contains 81870 entries\n",
    " * **Columns**: This dataset has 8 columns\n",
    " * **Data types**:\n",
    "    * Most columns (5 to be precise) are of the **object** data type, representing strings or categorical data\n",
    "    * 2 columns are of the **int64** data type which represents integer values\n",
    "    * 1 column is of the **float64** data type, representing decimal values"
   ]
  },
  {
   "cell_type": "code",
   "execution_count": 4,
   "id": "df840215",
   "metadata": {},
   "outputs": [
    {
     "name": "stdout",
     "output_type": "stream",
     "text": [
      "['Rank', 'Year', 'Sales']\n",
      "['Name', 'Platform', 'Genre', 'Publisher', 'Region']\n"
     ]
    }
   ],
   "source": [
    "# Based on the previous dataset description, we divide the dataset into numeric list and category list\n",
    "num_list = list(df.dtypes[df.dtypes != 'object'].index)\n",
    "cate_list = list(df.dtypes[df.dtypes == 'object'].index)\n",
    "\n",
    "print(num_list)\n",
    "print(cate_list)"
   ]
  },
  {
   "cell_type": "code",
   "execution_count": 5,
   "id": "5fcc1295",
   "metadata": {},
   "outputs": [
    {
     "data": {
      "text/html": [
       "<div>\n",
       "<style scoped>\n",
       "    .dataframe tbody tr th:only-of-type {\n",
       "        vertical-align: middle;\n",
       "    }\n",
       "\n",
       "    .dataframe tbody tr th {\n",
       "        vertical-align: top;\n",
       "    }\n",
       "\n",
       "    .dataframe thead th {\n",
       "        text-align: right;\n",
       "    }\n",
       "</style>\n",
       "<table border=\"1\" class=\"dataframe\">\n",
       "  <thead>\n",
       "    <tr style=\"text-align: right;\">\n",
       "      <th></th>\n",
       "      <th>count</th>\n",
       "      <th>mean</th>\n",
       "      <th>std</th>\n",
       "      <th>min</th>\n",
       "      <th>25%</th>\n",
       "      <th>50%</th>\n",
       "      <th>75%</th>\n",
       "      <th>max</th>\n",
       "    </tr>\n",
       "  </thead>\n",
       "  <tbody>\n",
       "    <tr>\n",
       "      <th>Rank</th>\n",
       "      <td>81870.0</td>\n",
       "      <td>8286.495664</td>\n",
       "      <td>4797.892321</td>\n",
       "      <td>1.0</td>\n",
       "      <td>4122.0</td>\n",
       "      <td>8287.50</td>\n",
       "      <td>12443.00</td>\n",
       "      <td>16600.00</td>\n",
       "    </tr>\n",
       "    <tr>\n",
       "      <th>Year</th>\n",
       "      <td>81870.0</td>\n",
       "      <td>2006.398864</td>\n",
       "      <td>5.841379</td>\n",
       "      <td>1977.0</td>\n",
       "      <td>2003.0</td>\n",
       "      <td>2007.00</td>\n",
       "      <td>2010.00</td>\n",
       "      <td>2020.00</td>\n",
       "    </tr>\n",
       "    <tr>\n",
       "      <th>Sales</th>\n",
       "      <td>81870.0</td>\n",
       "      <td>0.216658</td>\n",
       "      <td>0.857467</td>\n",
       "      <td>0.0</td>\n",
       "      <td>0.0</td>\n",
       "      <td>0.03</td>\n",
       "      <td>0.15</td>\n",
       "      <td>82.74</td>\n",
       "    </tr>\n",
       "  </tbody>\n",
       "</table>\n",
       "</div>"
      ],
      "text/plain": [
       "         count         mean          std     min     25%      50%       75%  \\\n",
       "Rank   81870.0  8286.495664  4797.892321     1.0  4122.0  8287.50  12443.00   \n",
       "Year   81870.0  2006.398864     5.841379  1977.0  2003.0  2007.00   2010.00   \n",
       "Sales  81870.0     0.216658     0.857467     0.0     0.0     0.03      0.15   \n",
       "\n",
       "            max  \n",
       "Rank   16600.00  \n",
       "Year    2020.00  \n",
       "Sales     82.74  "
      ]
     },
     "execution_count": 5,
     "metadata": {},
     "output_type": "execute_result"
    }
   ],
   "source": [
    "# Get the summary statistic for numerical values\n",
    "df.describe().T"
   ]
  },
  {
   "cell_type": "markdown",
   "id": "417f63a8",
   "metadata": {},
   "source": [
    "### **Numerical Values**:\n",
    " * `Rank`: The rank of overall sales\n",
    " * `Year`: The year when the video game is released\n",
    " * `Sales`: Sale value from each region from 0 (or <10000) to 82.74 million copies sold"
   ]
  },
  {
   "cell_type": "code",
   "execution_count": 6,
   "id": "6f4a0aab",
   "metadata": {},
   "outputs": [
    {
     "data": {
      "text/html": [
       "<div>\n",
       "<style scoped>\n",
       "    .dataframe tbody tr th:only-of-type {\n",
       "        vertical-align: middle;\n",
       "    }\n",
       "\n",
       "    .dataframe tbody tr th {\n",
       "        vertical-align: top;\n",
       "    }\n",
       "\n",
       "    .dataframe thead th {\n",
       "        text-align: right;\n",
       "    }\n",
       "</style>\n",
       "<table border=\"1\" class=\"dataframe\">\n",
       "  <thead>\n",
       "    <tr style=\"text-align: right;\">\n",
       "      <th></th>\n",
       "      <th>count</th>\n",
       "      <th>unique</th>\n",
       "      <th>top</th>\n",
       "      <th>freq</th>\n",
       "    </tr>\n",
       "  </thead>\n",
       "  <tbody>\n",
       "    <tr>\n",
       "      <th>Name</th>\n",
       "      <td>81870</td>\n",
       "      <td>11385</td>\n",
       "      <td>Need for Speed: Most Wanted</td>\n",
       "      <td>60</td>\n",
       "    </tr>\n",
       "    <tr>\n",
       "      <th>Platform</th>\n",
       "      <td>81870</td>\n",
       "      <td>31</td>\n",
       "      <td>DS</td>\n",
       "      <td>10690</td>\n",
       "    </tr>\n",
       "    <tr>\n",
       "      <th>Genre</th>\n",
       "      <td>81870</td>\n",
       "      <td>12</td>\n",
       "      <td>Action</td>\n",
       "      <td>16340</td>\n",
       "    </tr>\n",
       "    <tr>\n",
       "      <th>Publisher</th>\n",
       "      <td>81870</td>\n",
       "      <td>580</td>\n",
       "      <td>Electronic Arts</td>\n",
       "      <td>6730</td>\n",
       "    </tr>\n",
       "    <tr>\n",
       "      <th>Region</th>\n",
       "      <td>81870</td>\n",
       "      <td>5</td>\n",
       "      <td>North America</td>\n",
       "      <td>16374</td>\n",
       "    </tr>\n",
       "  </tbody>\n",
       "</table>\n",
       "</div>"
      ],
      "text/plain": [
       "           count unique                          top   freq\n",
       "Name       81870  11385  Need for Speed: Most Wanted     60\n",
       "Platform   81870     31                           DS  10690\n",
       "Genre      81870     12                       Action  16340\n",
       "Publisher  81870    580              Electronic Arts   6730\n",
       "Region     81870      5                North America  16374"
      ]
     },
     "execution_count": 6,
     "metadata": {},
     "output_type": "execute_result"
    }
   ],
   "source": [
    "# Get the summary statistic for categorical values\n",
    "df.describe(include='object').T"
   ]
  },
  {
   "cell_type": "markdown",
   "id": "bb8e869c",
   "metadata": {},
   "source": [
    "### **Categorical Values**:\n",
    " * `Name`: The name of the video game with upto 11385 unique values, duplicated value could be because that same game got released on multiple different platform\n",
    " * `Platform`: The platform from which the game got released on with 31 unique platform, as for this dataset, `DS` is the most popular platform\n",
    " * `Genre`: The genre of the game with 12 unique values, `Action` is most \n",
    " * `Publisher`: The publisher who release the game with 580 differnet publishers, `Electronic Arts` is the publisher who release the most games.\n",
    " * `Region`: The region where the video game was sold, with 5 unique values"
   ]
  },
  {
   "cell_type": "markdown",
   "id": "3e4ed89e",
   "metadata": {},
   "source": [
    "## **IV. Handle missing/duplicated data** <a class=\"anchor\" id=\"c4\"></a>"
   ]
  },
  {
   "cell_type": "code",
   "execution_count": 7,
   "id": "0a026e00",
   "metadata": {},
   "outputs": [
    {
     "data": {
      "text/plain": [
       "Series([], dtype: float64)"
      ]
     },
     "execution_count": 7,
     "metadata": {},
     "output_type": "execute_result"
    }
   ],
   "source": [
    "# Calculate the missing rate of the dataset\n",
    "missing_value_percentage = (df.isnull().sum() / len(df)) * 100\n",
    "missing_value_percentage[missing_value_percentage > 0]"
   ]
  },
  {
   "cell_type": "code",
   "execution_count": 8,
   "id": "532334ce",
   "metadata": {},
   "outputs": [
    {
     "data": {
      "text/html": [
       "<div>\n",
       "<style scoped>\n",
       "    .dataframe tbody tr th:only-of-type {\n",
       "        vertical-align: middle;\n",
       "    }\n",
       "\n",
       "    .dataframe tbody tr th {\n",
       "        vertical-align: top;\n",
       "    }\n",
       "\n",
       "    .dataframe thead th {\n",
       "        text-align: right;\n",
       "    }\n",
       "</style>\n",
       "<table border=\"1\" class=\"dataframe\">\n",
       "  <thead>\n",
       "    <tr style=\"text-align: right;\">\n",
       "      <th></th>\n",
       "      <th>Rank</th>\n",
       "      <th>Name</th>\n",
       "      <th>Platform</th>\n",
       "      <th>Year</th>\n",
       "      <th>Genre</th>\n",
       "      <th>Publisher</th>\n",
       "      <th>Region</th>\n",
       "      <th>Sales</th>\n",
       "    </tr>\n",
       "  </thead>\n",
       "  <tbody>\n",
       "    <tr>\n",
       "      <th>0</th>\n",
       "      <td>1</td>\n",
       "      <td>Wii Sports</td>\n",
       "      <td>Wii</td>\n",
       "      <td>2006</td>\n",
       "      <td>Sports</td>\n",
       "      <td>Nintendo</td>\n",
       "      <td>North America</td>\n",
       "      <td>41.49</td>\n",
       "    </tr>\n",
       "    <tr>\n",
       "      <th>1</th>\n",
       "      <td>1</td>\n",
       "      <td>Wii Sports</td>\n",
       "      <td>Wii</td>\n",
       "      <td>2006</td>\n",
       "      <td>Sports</td>\n",
       "      <td>Nintendo</td>\n",
       "      <td>Europe</td>\n",
       "      <td>29.02</td>\n",
       "    </tr>\n",
       "    <tr>\n",
       "      <th>2</th>\n",
       "      <td>1</td>\n",
       "      <td>Wii Sports</td>\n",
       "      <td>Wii</td>\n",
       "      <td>2006</td>\n",
       "      <td>Sports</td>\n",
       "      <td>Nintendo</td>\n",
       "      <td>Japan</td>\n",
       "      <td>3.77</td>\n",
       "    </tr>\n",
       "    <tr>\n",
       "      <th>3</th>\n",
       "      <td>1</td>\n",
       "      <td>Wii Sports</td>\n",
       "      <td>Wii</td>\n",
       "      <td>2006</td>\n",
       "      <td>Sports</td>\n",
       "      <td>Nintendo</td>\n",
       "      <td>Other</td>\n",
       "      <td>8.46</td>\n",
       "    </tr>\n",
       "    <tr>\n",
       "      <th>4</th>\n",
       "      <td>1</td>\n",
       "      <td>Wii Sports</td>\n",
       "      <td>Wii</td>\n",
       "      <td>2006</td>\n",
       "      <td>Sports</td>\n",
       "      <td>Nintendo</td>\n",
       "      <td>Global</td>\n",
       "      <td>82.74</td>\n",
       "    </tr>\n",
       "    <tr>\n",
       "      <th>...</th>\n",
       "      <td>...</td>\n",
       "      <td>...</td>\n",
       "      <td>...</td>\n",
       "      <td>...</td>\n",
       "      <td>...</td>\n",
       "      <td>...</td>\n",
       "      <td>...</td>\n",
       "      <td>...</td>\n",
       "    </tr>\n",
       "    <tr>\n",
       "      <th>81865</th>\n",
       "      <td>16600</td>\n",
       "      <td>Spirits &amp; Spells</td>\n",
       "      <td>GBA</td>\n",
       "      <td>2003</td>\n",
       "      <td>Platform</td>\n",
       "      <td>Wanadoo</td>\n",
       "      <td>North America</td>\n",
       "      <td>0.01</td>\n",
       "    </tr>\n",
       "    <tr>\n",
       "      <th>81866</th>\n",
       "      <td>16600</td>\n",
       "      <td>Spirits &amp; Spells</td>\n",
       "      <td>GBA</td>\n",
       "      <td>2003</td>\n",
       "      <td>Platform</td>\n",
       "      <td>Wanadoo</td>\n",
       "      <td>Europe</td>\n",
       "      <td>0.00</td>\n",
       "    </tr>\n",
       "    <tr>\n",
       "      <th>81867</th>\n",
       "      <td>16600</td>\n",
       "      <td>Spirits &amp; Spells</td>\n",
       "      <td>GBA</td>\n",
       "      <td>2003</td>\n",
       "      <td>Platform</td>\n",
       "      <td>Wanadoo</td>\n",
       "      <td>Japan</td>\n",
       "      <td>0.00</td>\n",
       "    </tr>\n",
       "    <tr>\n",
       "      <th>81868</th>\n",
       "      <td>16600</td>\n",
       "      <td>Spirits &amp; Spells</td>\n",
       "      <td>GBA</td>\n",
       "      <td>2003</td>\n",
       "      <td>Platform</td>\n",
       "      <td>Wanadoo</td>\n",
       "      <td>Other</td>\n",
       "      <td>0.00</td>\n",
       "    </tr>\n",
       "    <tr>\n",
       "      <th>81869</th>\n",
       "      <td>16600</td>\n",
       "      <td>Spirits &amp; Spells</td>\n",
       "      <td>GBA</td>\n",
       "      <td>2003</td>\n",
       "      <td>Platform</td>\n",
       "      <td>Wanadoo</td>\n",
       "      <td>Global</td>\n",
       "      <td>0.01</td>\n",
       "    </tr>\n",
       "  </tbody>\n",
       "</table>\n",
       "<p>81870 rows × 8 columns</p>\n",
       "</div>"
      ],
      "text/plain": [
       "        Rank              Name Platform  Year     Genre Publisher  \\\n",
       "0          1        Wii Sports      Wii  2006    Sports  Nintendo   \n",
       "1          1        Wii Sports      Wii  2006    Sports  Nintendo   \n",
       "2          1        Wii Sports      Wii  2006    Sports  Nintendo   \n",
       "3          1        Wii Sports      Wii  2006    Sports  Nintendo   \n",
       "4          1        Wii Sports      Wii  2006    Sports  Nintendo   \n",
       "...      ...               ...      ...   ...       ...       ...   \n",
       "81865  16600  Spirits & Spells      GBA  2003  Platform   Wanadoo   \n",
       "81866  16600  Spirits & Spells      GBA  2003  Platform   Wanadoo   \n",
       "81867  16600  Spirits & Spells      GBA  2003  Platform   Wanadoo   \n",
       "81868  16600  Spirits & Spells      GBA  2003  Platform   Wanadoo   \n",
       "81869  16600  Spirits & Spells      GBA  2003  Platform   Wanadoo   \n",
       "\n",
       "              Region  Sales  \n",
       "0      North America  41.49  \n",
       "1             Europe  29.02  \n",
       "2              Japan   3.77  \n",
       "3              Other   8.46  \n",
       "4             Global  82.74  \n",
       "...              ...    ...  \n",
       "81865  North America   0.01  \n",
       "81866         Europe   0.00  \n",
       "81867          Japan   0.00  \n",
       "81868          Other   0.00  \n",
       "81869         Global   0.01  \n",
       "\n",
       "[81870 rows x 8 columns]"
      ]
     },
     "execution_count": 8,
     "metadata": {},
     "output_type": "execute_result"
    }
   ],
   "source": [
    "# Handle duplicated data (if any)\n",
    "df.drop_duplicates()"
   ]
  },
  {
   "cell_type": "markdown",
   "id": "e8f0b620",
   "metadata": {},
   "source": [
    "## **V. Data exploration** <a class=\"anchor\" id=\"c5\"></a>"
   ]
  },
  {
   "cell_type": "markdown",
   "id": "6eace599",
   "metadata": {},
   "source": [
    "### **1. Total sale per region** <a class=\"anchor\" id=\"c51\"></a>"
   ]
  },
  {
   "cell_type": "code",
   "execution_count": 16,
   "id": "1fe62fad",
   "metadata": {},
   "outputs": [
    {
     "data": {
      "image/png": "[encoded data removed]",
      "text/plain": [
       "<Figure size 1000x1000 with 1 Axes>"
      ]
     },
     "metadata": {},
     "output_type": "display_data"
    }
   ],
   "source": [
    "region_data = df.groupby(\"Region\")[\"Sales\"].sum()\n",
    "\n",
    "# Plot\n",
    "fig, ax = plt.subplots(figsize=(10, 10))\n",
    "region_data.plot(kind='bar', ax=ax)\n",
    "ax.set_title(\"Total sale per region\", fontsize=15)\n",
    "ax.tick_params(axis='both', which='major', labelsize=10)\n",
    "ax.set_xlabel(\"Region\", fontsize=15)\n",
    "ax.set_ylabel(\"Sales (millions)\", fontsize=15)\n",
    "\n",
    "plt.show()"
   ]
  },
  {
   "cell_type": "markdown",
   "id": "67868137",
   "metadata": {},
   "source": [
    "### **2. Top 10 platform with the most sale** <a class=\"anchor\" id=\"c52\"></a>"
   ]
  },
  {
   "cell_type": "code",
   "execution_count": null,
   "id": "81f90cca",
   "metadata": {},
   "outputs": [
    {
     "data": {
      "image/png": "[encoded data removed]",
      "text/plain": [
       "<Figure size 1000x1000 with 1 Axes>"
      ]
     },
     "metadata": {},
     "output_type": "display_data"
    }
   ],
   "source": [
    "platform_data = df.groupby(\"Platform\")[\"Sales\"].sum()\n",
    "\n",
    "# Sort by Sales in descending order and select the top 10\n",
    "platform_data = platform_data.sort_values(ascending=False).head(10)\n",
    "\n",
    "# Plot\n",
    "fig, ax = plt.subplots(figsize=(10, 10))\n",
    "platform_data.plot(kind='bar', ax=ax)\n",
    "ax.set_title(\"Top 10 platforms with the most sales\", fontsize=15)\n",
    "ax.tick_params(axis='both', which='major', labelsize=10)\n",
    "ax.set_xlabel(\"Platform\", fontsize=15)\n",
    "ax.set_ylabel(\"Sales (millions)\", fontsize=15)\n",
    "\n",
    "plt.show()"
   ]
  },
  {
   "cell_type": "markdown",
   "id": "e4de09d5",
   "metadata": {},
   "source": [
    "### **3. Top 10 publishers with the most sale** <a class=\"anchor\" id=\"c53\"></a>"
   ]
  },
  {
   "cell_type": "code",
   "execution_count": 21,
   "id": "5aa5a6af",
   "metadata": {},
   "outputs": [
    {
     "data": {
      "image/png": "[encoded data removed]",
      "text/plain": [
       "<Figure size 1000x1000 with 1 Axes>"
      ]
     },
     "metadata": {},
     "output_type": "display_data"
    }
   ],
   "source": [
    "publisher_data = df.groupby(\"Publisher\")[\"Sales\"].sum()\n",
    "\n",
    "# Sort by Sales in descending order and select the top 10\n",
    "publisher_data = publisher_data.sort_values(ascending=False).head(10)\n",
    "\n",
    "# Plot\n",
    "fig, ax = plt.subplots(figsize=(10, 10))\n",
    "publisher_data.plot(kind='bar', ax=ax)\n",
    "ax.set_title(\"Top 10 publishers with the most sales\", fontsize=15)\n",
    "ax.tick_params(axis='both', which='major', labelsize=10)\n",
    "ax.set_xlabel(\"Platform\", fontsize=15)\n",
    "ax.set_ylabel(\"Sales (millions)\", fontsize=15)\n",
    "\n",
    "plt.show()"
   ]
  }
 ],
 "metadata": {
  "kernelspec": {
   "display_name": "Python 3",
   "language": "python",
   "name": "python3"
  },
  "language_info": {
   "codemirror_mode": {
    "name": "ipython",
    "version": 3
   },
   "file_extension": ".py",
   "mimetype": "text/x-python",
   "name": "python",
   "nbconvert_exporter": "python",
   "pygments_lexer": "ipython3",
   "version": "3.13.2"
  }
 },
 "nbformat": 4,
 "nbformat_minor": 5
}
